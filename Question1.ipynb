{
  "nbformat": 4,
  "nbformat_minor": 0,
  "metadata": {
    "colab": {
      "name": "Question1.ipynb",
      "provenance": [],
      "authorship_tag": "ABX9TyPqIIbYxWZKvi6BeV5R35dx",
      "include_colab_link": true
    },
    "kernelspec": {
      "name": "python3",
      "display_name": "Python 3"
    },
    "language_info": {
      "name": "python"
    }
  },
  "cells": [
    {
      "cell_type": "markdown",
      "metadata": {
        "id": "view-in-github",
        "colab_type": "text"
      },
      "source": [
        "<a href=\"https://colab.research.google.com/github/aicha001/Assessment-3/blob/main/Question1.ipynb\" target=\"_parent\"><img src=\"https://colab.research.google.com/assets/colab-badge.svg\" alt=\"Open In Colab\"/></a>"
      ]
    },
    {
      "cell_type": "code",
      "execution_count": 6,
      "metadata": {
        "colab": {
          "base_uri": "https://localhost:8080/"
        },
        "id": "9euGQkOh_kox",
        "outputId": "47b19709-374a-46ec-c50d-4dbfcf4338ba"
      },
      "outputs": [
        {
          "output_type": "stream",
          "name": "stdout",
          "text": [
            "Conversion of Currency\n",
            "Enter (X) for American Dollar to Australian Dollar or Enter (Y) for Japanese Yen to Australian Dollar.X\n",
            "Please enter the amount of money you would like to exchange: 222\n",
            "Amount of money converted from American Dollar to Australian Dollar is A$ 306.36\n"
          ]
        }
      ],
      "source": [
        "# Title of program code\n",
        "print(\"Conversion of Currency\")\n",
        "\n",
        "#Assigning a letter to each conversion that need to be done to simplify the code.\n",
        "Conversion= input(\"Enter (X) for American Dollar to Australian Dollar or Enter (Y) for Japanese Yen to Australian Dollar.\")\n",
        "if Conversion == \"X\" :\n",
        "  ptd=float(input(\"Please enter the amount of money you are willing to exchange: \"))\n",
        "  e1 = ptd * 1.38\n",
        "  e2 = round(e1,2)\n",
        "\n",
        "#Displaying the amount of money converted from American Dollar to Australian Dollar.\n",
        "  print(\"Amount of money converted from American Dollar to Australian Dollar is A$\", e2)\n",
        "\n",
        "if Conversion == \"Y\" :\n",
        "  ptd=float(input(\"Please enter the amount of money you want to exchange: \"))\n",
        "  e1 = ptd * 0.010\n",
        "  e2 = round(e1,2)\n",
        "\n",
        "#Displaying the amount of money exchange from Japanese Yen to Australian Dollar.\n",
        "  print(\"Amount of money exchanged from Yen to Australian Dollar is A$\", e2)\n"
      ]
    }
  ]
}